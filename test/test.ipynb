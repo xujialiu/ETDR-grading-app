{
 "cells": [
  {
   "cell_type": "code",
   "execution_count": 1,
   "metadata": {},
   "outputs": [],
   "source": [
    "from dataclasses import dataclass\n",
    "\n",
    "\n",
    "@dataclass\n",
    "class OptionScoreImgPath:\n",
    "    score: int\n",
    "    img_path: str\n",
    "\n",
    "\n",
    "@dataclass\n",
    "class OptionGroup:\n",
    "    options: dict[str, OptionScoreImgPath]\n",
    "\n",
    "\n",
    "HMA_OPTIONS = OptionGroup(\n",
    "    {\n",
    "        \"None\": OptionScoreImgPath(0, \"question.png\"),\n",
    "        \"Quest\": OptionScoreImgPath(1, \"question.png\"),\n",
    "        \"<std 1\": OptionScoreImgPath(2, \"question.png\"),\n",
    "        \"≥std 1\": OptionScoreImgPath(3, \"question.png\"),\n",
    "        \"≥std 2A\": OptionScoreImgPath(4, \"question.png\"),\n",
    "        \"Could grade\": OptionScoreImgPath(8, \"question.png\"),\n",
    "    }\n",
    ")\n",
    "\n",
    "HE_OPTIONS = OptionGroup(\n",
    "    {\n",
    "        \"None\": OptionScoreImgPath(0, \"question.png\"),\n",
    "        \"Quest\": OptionScoreImgPath(1, \"question.png\"),\n",
    "        \"<std 3\": OptionScoreImgPath(2, \"question.png\"),\n",
    "        \"≥std 3 - <std 4\": OptionScoreImgPath(2, \"question.png\"),\n",
    "        \"≥std 4\": OptionScoreImgPath(4, \"question.png\"),\n",
    "    }\n",
    ")"
   ]
  },
  {
   "cell_type": "code",
   "execution_count": 8,
   "metadata": {},
   "outputs": [],
   "source": [
    "from dataclasses import dataclass\n",
    "from pathlib import Path\n",
    "from typing import Sequence, Union\n",
    "\n",
    "\n",
    "@dataclass(frozen=True)\n",
    "class OptionScoreImgPath:\n",
    "    score: int\n",
    "    path: Union[str, Path]\n",
    "\n",
    "\n",
    "@dataclass(frozen=True)\n",
    "class Option:\n",
    "    text: str\n",
    "    option_score_img_path: OptionScoreImgPath\n",
    "\n",
    "\n",
    "@dataclass(frozen=True)\n",
    "class Options:\n",
    "    options: Sequence[Option]\n",
    "\n",
    "\n",
    "HMA_OPTIONS = Options(\n",
    "    [\n",
    "        Option(\"None\", OptionScoreImgPath(0, \"question.png\")),\n",
    "        Option(\"Quest\", OptionScoreImgPath(1, \"question.png\")),\n",
    "        Option(\"<std 1\", OptionScoreImgPath(2, \"question.png\")),\n",
    "        Option(\"≥std 1\", OptionScoreImgPath(3, \"question.png\")),\n",
    "        Option(\"≥std 2A\", OptionScoreImgPath(4, \"question.png\")),\n",
    "        Option(\"Could grade\", OptionScoreImgPath(8, \"question.png\")),\n",
    "    ]\n",
    ")\n",
    "\n",
    "HE_OPTIONS = Options(\n",
    "    [\n",
    "        Option(\"None\", OptionScoreImgPath(0, \"question.png\")),\n",
    "        Option(\"Quest\", OptionScoreImgPath(1, \"question.png\")),\n",
    "        Option(\"<std 3\", OptionScoreImgPath(2, \"question.png\")),\n",
    "        Option(\"≥std 3 - <std 4\", OptionScoreImgPath(2, \"question.png\")),\n",
    "        Option(\"≥std 4\", OptionScoreImgPath(4, \"question.png\")),\n",
    "    ]\n",
    ")\n",
    "\n",
    "SE_OPTIONS = Options(\n",
    "    [\n",
    "        Option(\"None\", OptionScoreImgPath(0, \"question.png\")),\n",
    "        Option(\"Quest\", OptionScoreImgPath(1, \"question.png\")),\n",
    "        Option(\"Definite\", OptionScoreImgPath(2, \"question.png\")),\n",
    "    ]\n",
    ")\n",
    "\n",
    "IRMA_OPTIONS = Options(\n",
    "    [\n",
    "        Option(\"None\", OptionScoreImgPath(0, \"question.png\")),\n",
    "        Option(\"Quest\", OptionScoreImgPath(1, \"question.png\")),\n",
    "        Option(\"Definite\", OptionScoreImgPath(2, \"question.png\")),\n",
    "        Option(\"Definite (all fields)\", OptionScoreImgPath(3, \"question.png\")),\n",
    "        Option(\"≥std 8A\", OptionScoreImgPath(4, \"question.png\")),\n",
    "        Option(\"Could grade\", OptionScoreImgPath(8, \"question.png\")),\n",
    "    ]\n",
    ")\n",
    "\n",
    "VB_OPTIONS = Options(\n",
    "    [\n",
    "        Option(\"None\", OptionScoreImgPath(0, \"question.png\")),\n",
    "        Option(\"Quest\", OptionScoreImgPath(1, \"question.png\")),\n",
    "        Option(\"Definite\", OptionScoreImgPath(2, \"question.png\")),\n",
    "        Option(\"Definite (2+ fields)\", OptionScoreImgPath(3, \"question.png\")),\n",
    "        Option(\"Could grade\", OptionScoreImgPath(8, \"question.png\")),\n",
    "    ]\n",
    ")\n",
    "\n",
    "NVD_OPTIONS = Options(\n",
    "    [\n",
    "        Option(\"None\", OptionScoreImgPath(0, \"question.png\")),\n",
    "        Option(\"Quest\", OptionScoreImgPath(1, \"question.png\")),\n",
    "        Option(\"<std 10A\", OptionScoreImgPath(2, \"question.png\")),\n",
    "        Option(\"≥std 10A\", OptionScoreImgPath(3, \"question.png\")),\n",
    "        Option(\"Could grade\", OptionScoreImgPath(8, \"question.png\")),\n",
    "    ]\n",
    ")\n",
    "\n",
    "NVE_OPTIONS = Options(\n",
    "    [\n",
    "        Option(\"None\", OptionScoreImgPath(0, \"question.png\")),\n",
    "        Option(\"Quest\", OptionScoreImgPath(1, \"question.png\")),\n",
    "        Option(\"<1/2 Disc area\", OptionScoreImgPath(2, \"question.png\")),\n",
    "        Option(\"≥1/2 Disc area\", OptionScoreImgPath(3, \"question.png\")),\n",
    "    ]\n",
    ")\n",
    "\n",
    "FP_OPTIONS = Options(\n",
    "    [\n",
    "        Option(\"None\", OptionScoreImgPath(0, \"question.png\")),\n",
    "        Option(\"Quest\", OptionScoreImgPath(1, \"question.png\")),\n",
    "        Option(\"FPE only\", OptionScoreImgPath(2, \"question.png\")),\n",
    "        Option(\"FPD only\", OptionScoreImgPath(3, \"question.png\")),\n",
    "        Option(\"FPD + FPE\", OptionScoreImgPath(4, \"question.png\")),\n",
    "        Option(\"Could grade\", OptionScoreImgPath(8, \"question.png\")),\n",
    "    ]\n",
    ")\n",
    "\n",
    "PRH_VH_OPTIONS = Options(\n",
    "    [\n",
    "        Option(\"None\", OptionScoreImgPath(0, \"question.png\")),\n",
    "        Option(\"Quest\", OptionScoreImgPath(1, \"question.png\")),\n",
    "        Option(\"PRH only\", OptionScoreImgPath(2, \"question.png\")),\n",
    "        Option(\"VH only\", OptionScoreImgPath(3, \"question.png\")),\n",
    "        Option(\"PRH+VH\", OptionScoreImgPath(4, \"question.png\")),\n",
    "        Option(\"Could grade\", OptionScoreImgPath(8, \"question.png\")),\n",
    "    ]\n",
    ")\n",
    "\n",
    "EDEMA_OPTIONS = Options(\n",
    "    [\n",
    "        Option(\"None\", OptionScoreImgPath(0, \"question.png\")),\n",
    "        Option(\"Quest\", OptionScoreImgPath(1, \"question.png\")),\n",
    "        Option(\"Present, not CSME\", OptionScoreImgPath(2, \"question.png\")),\n",
    "        Option(\"Present, CSME\", OptionScoreImgPath(3, \"question.png\")),\n",
    "        Option(\"Non-Diab\", OptionScoreImgPath(4, \"question.png\")),\n",
    "        Option(\"Could grade\", OptionScoreImgPath(8, \"question.png\")),\n",
    "    ]\n",
    ")\n",
    "\n",
    "CTR_OPTIONS = Options(\n",
    "    [\n",
    "        Option(\"None\", OptionScoreImgPath(0, \"question.png\")),\n",
    "        Option(\"Quest\", OptionScoreImgPath(1, \"question.png\")),\n",
    "        Option(\"Present, not CSME\", OptionScoreImgPath(2, \"question.png\")),\n",
    "        Option(\"Present, CSME\", OptionScoreImgPath(3, \"question.png\")),\n",
    "        Option(\"Non-Diab\", OptionScoreImgPath(4, \"question.png\")),\n",
    "        Option(\"Could grade\", OptionScoreImgPath(8, \"question.png\")),\n",
    "    ]\n",
    ")\n",
    "\n",
    "VEN_OPTIONS = Options(\n",
    "    [\n",
    "        Option(\"None\", OptionScoreImgPath(0, \"question.png\")),\n",
    "        Option(\"Quest\", OptionScoreImgPath(1, \"question.png\")),\n",
    "        Option(\"Definite\", OptionScoreImgPath(2, \"question.png\")),\n",
    "        Option(\"Could grade\", OptionScoreImgPath(8, \"question.png\")),\n",
    "    ]\n",
    ")\n",
    "\n",
    "LASER_OPTIONS = Options(\n",
    "    [\n",
    "        Option(\"None\", OptionScoreImgPath(0, \"question.png\")),\n",
    "        Option(\"Quest/incomplete\", OptionScoreImgPath(1, \"question.png\")),\n",
    "        Option(\"Focal\", OptionScoreImgPath(2, \"question.png\")),\n",
    "        Option(\"Scatter only\", OptionScoreImgPath(3, \"question.png\")),\n",
    "        Option(\"Scatter + Focal\", OptionScoreImgPath(4, \"question.png\")),\n",
    "        Option(\"Could grade\", OptionScoreImgPath(8, \"question.png\")),\n",
    "    ]\n",
    ")\n",
    "\n",
    "RX_OPTIONS = Options(\n",
    "    [\n",
    "        Option(\"None\", OptionScoreImgPath(0, \"question.png\")),\n",
    "        Option(\"Quest\", OptionScoreImgPath(1, \"question.png\")),\n",
    "        Option(\"Focal RX only\", OptionScoreImgPath(2, \"question.png\")),\n",
    "        Option(\"Grid RX only\", OptionScoreImgPath(3, \"question.png\")),\n",
    "        Option(\"Focal + Grid\", OptionScoreImgPath(4, \"question.png\")),\n",
    "        Option(\"CG\", OptionScoreImgPath(8, \"question.png\")),\n",
    "    ]\n",
    ")"
   ]
  },
  {
   "cell_type": "code",
   "execution_count": 11,
   "metadata": {},
   "outputs": [
    {
     "data": {
      "text/plain": [
       "OptionScoreImgPath(score=0, path='question.png')"
      ]
     },
     "execution_count": 11,
     "metadata": {},
     "output_type": "execute_result"
    }
   ],
   "source": [
    "RX_OPTIONS.options[0].option_score_img_path"
   ]
  },
  {
   "cell_type": "code",
   "execution_count": 13,
   "metadata": {},
   "outputs": [
    {
     "data": {
      "text/plain": [
       "[Option(text='None', option_score_img_path=OptionScoreImgPath(score=0, path='question.png')),\n",
       " Option(text='Quest', option_score_img_path=OptionScoreImgPath(score=1, path='question.png')),\n",
       " Option(text='<std 1', option_score_img_path=OptionScoreImgPath(score=2, path='question.png')),\n",
       " Option(text='≥std 1', option_score_img_path=OptionScoreImgPath(score=3, path='question.png')),\n",
       " Option(text='≥std 2A', option_score_img_path=OptionScoreImgPath(score=4, path='question.png')),\n",
       " Option(text='Could grade', option_score_img_path=OptionScoreImgPath(score=8, path='question.png'))]"
      ]
     },
     "execution_count": 13,
     "metadata": {},
     "output_type": "execute_result"
    }
   ],
   "source": [
    "HMA_OPTIONS.options"
   ]
  },
  {
   "cell_type": "code",
   "execution_count": 15,
   "metadata": {},
   "outputs": [],
   "source": [
    "a = {1: 2, 2: 3}"
   ]
  },
  {
   "cell_type": "code",
   "execution_count": 1,
   "metadata": {},
   "outputs": [],
   "source": [
    "from datetime import datetime"
   ]
  },
  {
   "cell_type": "code",
   "execution_count": 3,
   "metadata": {},
   "outputs": [
    {
     "data": {
      "text/plain": [
       "datetime.datetime(2024, 6, 6, 22, 28, 34, 175899)"
      ]
     },
     "execution_count": 3,
     "metadata": {},
     "output_type": "execute_result"
    }
   ],
   "source": [
    "datetime.now().year, datatime"
   ]
  },
  {
   "cell_type": "code",
   "execution_count": null,
   "metadata": {},
   "outputs": [],
   "source": []
  },
  {
   "cell_type": "code",
   "execution_count": 8,
   "metadata": {},
   "outputs": [],
   "source": [
    "date = datetime.now().date()\n",
    "year, month, day = date.year, date.month, date.day"
   ]
  },
  {
   "cell_type": "code",
   "execution_count": 10,
   "metadata": {},
   "outputs": [
    {
     "data": {
      "text/plain": [
       "'2024-06-06'"
      ]
     },
     "execution_count": 10,
     "metadata": {},
     "output_type": "execute_result"
    }
   ],
   "source": [
    "date.__str__()"
   ]
  },
  {
   "cell_type": "code",
   "execution_count": 7,
   "metadata": {},
   "outputs": [
    {
     "ename": "TypeError",
     "evalue": "cannot unpack non-iterable datetime.date object",
     "output_type": "error",
     "traceback": [
      "\u001b[1;31m---------------------------------------------------------------------------\u001b[0m",
      "\u001b[1;31mTypeError\u001b[0m                                 Traceback (most recent call last)",
      "Cell \u001b[1;32mIn[7], line 1\u001b[0m\n\u001b[1;32m----> 1\u001b[0m a, b, v \u001b[38;5;241m=\u001b[39m date\u001b[38;5;241m.\u001b[39mdate()\n",
      "\u001b[1;31mTypeError\u001b[0m: cannot unpack non-iterable datetime.date object"
     ]
    }
   ],
   "source": [
    "a, b, v = date.date()"
   ]
  },
  {
   "cell_type": "code",
   "execution_count": 11,
   "metadata": {},
   "outputs": [],
   "source": [
    "from PySide6.QtCore import QDate\n",
    "\n",
    "\n",
    "date = QDate(2021, 11, 14)"
   ]
  },
  {
   "cell_type": "code",
   "execution_count": 12,
   "metadata": {},
   "outputs": [
    {
     "data": {
      "text/plain": [
       "(2024, 6, 6)"
      ]
     },
     "execution_count": 12,
     "metadata": {},
     "output_type": "execute_result"
    }
   ],
   "source": [
    "QDate.currentDate().getDate()"
   ]
  },
  {
   "cell_type": "code",
   "execution_count": null,
   "metadata": {},
   "outputs": [],
   "source": []
  }
 ],
 "metadata": {
  "kernelspec": {
   "display_name": "qt",
   "language": "python",
   "name": "python3"
  },
  "language_info": {
   "codemirror_mode": {
    "name": "ipython",
    "version": 3
   },
   "file_extension": ".py",
   "mimetype": "text/x-python",
   "name": "python",
   "nbconvert_exporter": "python",
   "pygments_lexer": "ipython3",
   "version": "3.11.9"
  }
 },
 "nbformat": 4,
 "nbformat_minor": 2
}
